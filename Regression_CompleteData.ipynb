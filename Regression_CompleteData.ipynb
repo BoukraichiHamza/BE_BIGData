{
 "cells": [
  {
   "cell_type": "code",
   "execution_count": null,
   "metadata": {},
   "outputs": [],
   "source": [
    "%config IPCompleter.greedy=True\n",
    "import pandas as pd\n",
    "import numpy as np\n",
    "import matplotlib.pyplot as plt\n",
    "import sklearn\n",
    "from sklearn.model_selection import train_test_split\n",
    "from sklearn import linear_model\n",
    "from sklearn import preprocessing\n",
    "from sklearn.metrics import mean_squared_error\n",
    "from sklearn import svm\n",
    "from sklearn.ensemble import RandomForestRegressor\n",
    "from sklearn.datasets import make_regression\n",
    "from sklearn.neural_network import MLPRegressor\n",
    "from sklearn.metrics import explained_variance_score\n",
    "import xgboost\n",
    "%matplotlib inline"
   ]
  },
  {
   "cell_type": "code",
   "execution_count": null,
   "metadata": {},
   "outputs": [],
   "source": [
    "#Lecture des données\n",
    "train_data = pd.read_csv('dataset/train.csv', sep=',',low_memory=False)\n",
    "store_data = pd.read_csv('dataset/store.csv', sep=',',low_memory=False)\n",
    "test_data = pd.read_csv('dataset/test.csv', sep=',',low_memory=False)"
   ]
  },
  {
   "cell_type": "code",
   "execution_count": null,
   "metadata": {},
   "outputs": [],
   "source": [
    "#Traitement et nettoyage des données\n",
    "\n",
    "\"\"\"\n",
    "Completion des données To DO\n",
    "\"\"\"\n",
    "print(\"TO DOOOOOOOOOOOOOOOOOOOOOOOOOOOOOOO !!!!!!!!!!!!!!!!!!!!!!!!!!!!!!!!!!!!!!!!!!!!!!!!\")\n",
    "# Jointure des deux fichiers pour elaboration des modèles\n",
    "join_train = train_data.join(store_data.set_index('Store'),on='Store')\n",
    "le = preprocessing.LabelEncoder()\n",
    "newdata = le.fit_transform(join_train['Date'])\n",
    "join_train['Date']=newdata\n",
    "join_train = join_train.dropna()\n",
    "\n",
    "#Transformation des données en 1-Hot Vector\n",
    "join_train = pd.get_dummies(join_train)\n",
    "\n",
    "\n",
    "#Même chose pour les données de test\n",
    "# Jointure des deux fichiers pour elaboration des modèles\n",
    "join_test = test_data.join(store_data.set_index('Store'),on='Store')\n",
    "le = preprocessing.LabelEncoder()\n",
    "newdata = le.fit_transform(join_test['Date'])\n",
    "join_test['Date']=newdata\n",
    "join_test = join_test.dropna()\n",
    "\n",
    "#Transformation des données en 1-Hot Vector\n",
    "join_test = pd.get_dummies(join_test)\n",
    "#Suppression de la colonne Id\n",
    "del join_test['Id']\n",
    "join_test.head(5)"
   ]
  },
  {
   "cell_type": "code",
   "execution_count": null,
   "metadata": {},
   "outputs": [],
   "source": [
    "\n",
    "#Définition des prédicteurs pour les modèles\n",
    "predicteurs=['Date','DayOfWeek','Open','Promo',\n",
    "           'SchoolHoliday','CompetitionDistance','CompetitionOpenSinceMonth','CompetitionOpenSinceYear']\n",
    "predictants=['Sales']\n",
    "\n",
    "#Définition des données d'entrainement et de validation\n",
    "y = join_train[(predictants)].values\n",
    "X = join_train[(predicteurs)].values\n",
    "X_train,X_valid,y_train,y_valid = train_test_split(X,y,test_size=0.1)\n",
    "join_train.head(5)"
   ]
  },
  {
   "cell_type": "code",
   "execution_count": null,
   "metadata": {},
   "outputs": [],
   "source": [
    "#Modèle linéaire\n",
    "reg_lin = linear_model.LinearRegression()\n",
    "reg_res = reg_lin.fit(X_train,y_train)\n",
    "\n",
    "reg_lin_scorev=reg_lin.score(X_valid,y_valid)\n",
    "reg_lin_scoret=reg_lin.score(X_train,y_train)\n",
    "print(\"Score de Validation = \",reg_lin_scorev,\" Score d'entrainement = \",reg_lin_scoret)"
   ]
  },
  {
   "cell_type": "code",
   "execution_count": null,
   "metadata": {},
   "outputs": [],
   "source": [
    "toprint = 50\n",
    "y_predictv = reg_lin.predict(X_valid)\n",
    "plt.plot(y_predictv[0:toprint],label=\"predicted\")\n",
    "plt.plot(y_valid[0:toprint],label=\"real\")\n",
    "plt.legend()\n",
    "plt.title(\"Predicted data vs real data - validation\")\n",
    "plt.show()\n",
    "\n",
    "y_predictt=reg_lin.predict(X_train)\n",
    "plt.plot(y_predictt[0:toprint],label=\"predicted\")\n",
    "plt.plot(y_train[0:toprint],label=\"real\")\n",
    "plt.legend()\n",
    "plt.title(\"Predicted data vs real data - training\")\n",
    "plt.show()"
   ]
  },
  {
   "cell_type": "code",
   "execution_count": null,
   "metadata": {},
   "outputs": [],
   "source": [
    "#Random Forest\n",
    "regrf = RandomForestRegressor(max_depth=10,n_estimators=20)\n",
    "regrf.fit(X_train,np.ravel(y_train))\n",
    "\n",
    "regrf_scorev=regrf.score(X_valid,y_valid)\n",
    "regrf_scoret=regrf.score(X_train,y_train)\n",
    "print(\"Score de Validation = \",regrf_scorev,\" Score d'entrainement = \",regrf_scoret)"
   ]
  },
  {
   "cell_type": "code",
   "execution_count": null,
   "metadata": {},
   "outputs": [],
   "source": [
    "y_predictv = regrf.predict(X_valid)\n",
    "plt.plot(y_predictv[0:toprint],label=\"predicted\")\n",
    "plt.plot(y_valid[0:toprint],label=\"real\")\n",
    "plt.legend()\n",
    "plt.title(\"Predicted data vs real data - validation\")\n",
    "plt.show()\n",
    "\n",
    "y_predictt=regrf.predict(X_train)\n",
    "plt.plot(y_predictt[0:toprint],label=\"predicted\")\n",
    "plt.plot(y_train[0:toprint],label=\"real\")\n",
    "plt.legend()\n",
    "plt.title(\"Predicted data vs real data - training\")\n",
    "plt.show()\n"
   ]
  },
  {
   "cell_type": "code",
   "execution_count": null,
   "metadata": {},
   "outputs": [],
   "source": [
    "# MultiLayer Perceptron\n",
    "nn=MLPRegressor(hidden_layer_sizes=(20,), activation='relu',solver='adam')\n",
    "nn.fit(X_train,np.ravel(y_train))\n",
    "\n",
    "nn_scorev=nn.score(X_valid,y_valid)\n",
    "nn_scoret=nn.score(X_train,y_train)\n",
    "print(\"Score de Validation = \",nn_scorev,\" Score d'entrainement = \",nn_scoret)"
   ]
  },
  {
   "cell_type": "code",
   "execution_count": null,
   "metadata": {},
   "outputs": [],
   "source": [
    "y_predictv = nn.predict(X_valid)\n",
    "plt.plot(y_predictv[0:toprint],label=\"predicted\")\n",
    "plt.plot(y_valid[0:toprint],label=\"real\")\n",
    "plt.legend()\n",
    "plt.title(\"Predicted data vs real data - validation\")\n",
    "plt.show()\n",
    "\n",
    "y_predictt=nn.predict(X_train)\n",
    "plt.plot(y_predictt[0:toprint],label=\"predicted\")\n",
    "plt.plot(y_train[0:toprint],label=\"real\")\n",
    "plt.legend()\n",
    "plt.title(\"Predicted data vs real data - training\")\n",
    "plt.show()\n"
   ]
  },
  {
   "cell_type": "code",
   "execution_count": null,
   "metadata": {},
   "outputs": [],
   "source": [
    "#XgBoost\n",
    "xgb = xgboost.XGBRegressor(n_estimators=100, learning_rate=0.1, max_depth=10)\n",
    "xgb.fit(X_train,y_train)\n",
    "\n",
    "xgb_scorev=xgb.score(X_valid,y_valid)\n",
    "xgb_scoret=xgb.score(X_train,y_train)\n",
    "print(\"Score de Validation = \",xgb_scorev,\" Score d'entrainement = \",xgb_scoret)"
   ]
  },
  {
   "cell_type": "code",
   "execution_count": null,
   "metadata": {},
   "outputs": [],
   "source": [
    "y_predictv = xgb.predict(X_valid)\n",
    "plt.plot(y_predictv[0:toprint],label=\"predicted\")\n",
    "plt.plot(y_valid[0:toprint],label=\"real\")\n",
    "plt.legend()\n",
    "plt.title(\"Predicted data vs real data - validation\")\n",
    "plt.show()\n",
    "\n",
    "y_predictt=xgb.predict(X_train)\n",
    "plt.plot(y_predictt[0:toprint],label=\"predicted\")\n",
    "plt.plot(y_train[0:toprint],label=\"real\")\n",
    "plt.legend()\n",
    "plt.title(\"Predicted data vs real data - training\")\n",
    "plt.show()"
   ]
  },
  {
   "cell_type": "code",
   "execution_count": null,
   "metadata": {},
   "outputs": [],
   "source": [
    "#Prédictions des données de tests avec le meilleur model\n",
    "ytest_predicted = xgb.predict(join_test[(predicteurs)].values)\n",
    "\n",
    "plt.plot(ytest_predicted[0:toprint])\n",
    "plt.title(\"Predicted sales for test database\")\n",
    "plt.show()"
   ]
  },
  {
   "cell_type": "code",
   "execution_count": null,
   "metadata": {},
   "outputs": [],
   "source": []
  }
 ],
 "metadata": {
  "kernelspec": {
   "display_name": "Python 3",
   "language": "python",
   "name": "python3"
  },
  "language_info": {
   "codemirror_mode": {
    "name": "ipython",
    "version": 3
   },
   "file_extension": ".py",
   "mimetype": "text/x-python",
   "name": "python",
   "nbconvert_exporter": "python",
   "pygments_lexer": "ipython3",
   "version": "3.7.0"
  }
 },
 "nbformat": 4,
 "nbformat_minor": 2
}
